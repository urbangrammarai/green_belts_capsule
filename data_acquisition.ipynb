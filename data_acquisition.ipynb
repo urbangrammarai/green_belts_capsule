{
 "cells": [
  {
   "cell_type": "markdown",
   "id": "c23e6c06-490d-406e-8fcd-a8a257eb325e",
   "metadata": {},
   "source": [
    "# Data Acquisition"
   ]
  },
  {
   "cell_type": "code",
   "execution_count": 78,
   "id": "e2822d27-3599-4b9c-909b-5163b35b346e",
   "metadata": {},
   "outputs": [],
   "source": [
    "import geopandas, pandas\n",
    "from pyogrio import read_dataframe"
   ]
  },
  {
   "cell_type": "markdown",
   "id": "4244467a-cc8f-48b2-a937-857888080e41",
   "metadata": {},
   "source": [
    "## Greenbelts"
   ]
  },
  {
   "cell_type": "markdown",
   "id": "bfef4c44-2592-4b61-95fc-1c3e8554e7f6",
   "metadata": {},
   "source": [
    "Download if not available:"
   ]
  },
  {
   "cell_type": "code",
   "execution_count": 91,
   "id": "5f4014c4-8a11-4d28-b801-910d5dff2dec",
   "metadata": {},
   "outputs": [],
   "source": [
    "gb_url = (\n",
    "    'https://maps.communities.gov.uk/geoserver/dclg_inspire/ows'\n",
    "    '?service=WFS&version=2.0.0&request=GetFeature&'\n",
    "    'typeName=dclg_inspire:England_Green_Belt_2017-18_WGS84&'\n",
    "    'outputFormat=json&srsName=EPSG:27700'\n",
    ")"
   ]
  },
  {
   "cell_type": "markdown",
   "id": "76e2e118-484d-43c7-bcf4-88aa7b9abdda",
   "metadata": {},
   "source": [
    "Read up:"
   ]
  },
  {
   "cell_type": "code",
   "execution_count": 94,
   "id": "fc4254a7-13df-4195-b737-1a5b0cea688f",
   "metadata": {},
   "outputs": [
    {
     "name": "stdout",
     "output_type": "stream",
     "text": [
      "CPU times: user 4.46 s, sys: 491 ms, total: 4.95 s\n",
      "Wall time: 16.3 s\n"
     ]
    }
   ],
   "source": [
    "%%time\n",
    "gb = read_dataframe(\n",
    "    gb_url,\n",
    "    #where=\"GB_Name='Merseyside and Greater Manchester'\"\n",
    ")"
   ]
  },
  {
   "cell_type": "markdown",
   "id": "30854b83-3343-4b74-986f-61e5aa65241a",
   "metadata": {},
   "source": [
    "## Signatures"
   ]
  },
  {
   "cell_type": "markdown",
   "id": "c5845dda-377f-4429-a666-eaa8c07c1cda",
   "metadata": {},
   "source": [
    "- Pull data if not present"
   ]
  },
  {
   "cell_type": "code",
   "execution_count": 19,
   "id": "64b4c6b5-1b52-448e-b227-b6e20f19771a",
   "metadata": {
    "tags": []
   },
   "outputs": [],
   "source": [
    "try:\n",
    "    open('signatures.gpkg').close()\n",
    "except:\n",
    "    ! wget https://figshare.com/ndownloader/files/30904861 -O signatures.gpkg"
   ]
  },
  {
   "cell_type": "markdown",
   "id": "740cc3dc-a469-493c-bb8a-8cbe0201d880",
   "metadata": {},
   "source": [
    "- Read and clip"
   ]
  },
  {
   "cell_type": "code",
   "execution_count": 70,
   "id": "7fabeb9a-0d99-49b3-bf98-65452b714587",
   "metadata": {},
   "outputs": [
    {
     "name": "stdout",
     "output_type": "stream",
     "text": [
      "[                                        ] | 0% Completed |  3.0s"
     ]
    },
    {
     "name": "stderr",
     "output_type": "stream",
     "text": [
      "ERROR 1: PROJ: proj_create_from_database: Open of /opt/conda/share/proj failed\n",
      "ERROR 1: PROJ: proj_create_from_database: Open of /opt/conda/share/proj failed\n",
      "ERROR 1: PROJ: proj_create_from_database: Open of /opt/conda/share/proj failed\n",
      "ERROR 1: PROJ: proj_create_from_database: Open of /opt/conda/share/proj failed\n",
      "ERROR 1: PROJ: proj_create_from_database: Open of /opt/conda/share/proj failed\n",
      "ERROR 1: PROJ: proj_create_from_database: Open of /opt/conda/share/proj failed\n",
      "ERROR 1: PROJ: proj_create_from_database: Open of /opt/conda/share/proj failed\n",
      "ERROR 1: PROJ: proj_create_from_database: Open of /opt/conda/share/proj failed\n"
     ]
    },
    {
     "name": "stdout",
     "output_type": "stream",
     "text": [
      "[########################################] | 100% Completed |  3min 21.3s\n"
     ]
    }
   ],
   "source": [
    "def read_clip(geom, p='signatures.gpkg'):\n",
    "    return geopandas.read_file(\n",
    "        p, mask=geom\n",
    "    ).clip(geom)\n",
    "\n",
    "import dask.bag as db\n",
    "from dask.diagnostics import ProgressBar\n",
    "\n",
    "bag = db.from_sequence(gb.geometry.tolist()).map(read_clip)\n",
    "with ProgressBar():\n",
    "    clipped = pandas.concat(bag.compute())"
   ]
  },
  {
   "cell_type": "markdown",
   "id": "dc60f913-40b8-4375-a50b-e244dc021263",
   "metadata": {},
   "source": [
    "### Store in disk"
   ]
  },
  {
   "cell_type": "code",
   "execution_count": null,
   "id": "02504925-5dea-47ad-b815-49b364398372",
   "metadata": {},
   "outputs": [],
   "source": [
    "clipped.to_parquet('ss_clipped.pq')"
   ]
  }
 ],
 "metadata": {
  "kernelspec": {
   "display_name": "Python 3 (ipykernel)",
   "language": "python",
   "name": "python3"
  },
  "language_info": {
   "codemirror_mode": {
    "name": "ipython",
    "version": 3
   },
   "file_extension": ".py",
   "mimetype": "text/x-python",
   "name": "python",
   "nbconvert_exporter": "python",
   "pygments_lexer": "ipython3",
   "version": "3.9.12"
  }
 },
 "nbformat": 4,
 "nbformat_minor": 5
}
